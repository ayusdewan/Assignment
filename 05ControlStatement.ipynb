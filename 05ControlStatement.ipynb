{
 "cells": [
  {
   "cell_type": "code",
   "execution_count": null,
   "id": "10ae088f-b7d0-42e6-af8c-86271f0c6671",
   "metadata": {},
   "outputs": [],
   "source": [
    "#input funtion convert it into string thatswhy we convertt it to int\n",
    "#marks=60\n",
    "marks = int(input(\"Enter marks : \"))\n",
    "if marks >= 80:\n",
    "    print(\"you will be enroll to a0 batch\")\n",
    "elif marks >= 60 and marks < 80 :\n",
    "    print(\"you will be part of a1 batch\")\n",
    "elif marks >=40 and marks <60 :\n",
    "    print(\"Ypou will be part of a2 batch\")\n",
    "else :\n",
    "    print(\"You will part of a3 batch\")"
   ]
  },
  {
   "cell_type": "code",
   "execution_count": null,
   "id": "1a32cfd3-fd31-4e22-b9e0-5dcbf807a2ff",
   "metadata": {},
   "outputs": [
    {
     "name": "stdin",
     "output_type": "stream",
     "text": [
      "Enter price 500\n"
     ]
    }
   ],
   "source": [
    "price = int(input(\"Enter price\"))\n",
    "if price > 1000 :\n",
    "    print(\" I will not purchase \")\n",
    "else :\n",
    "    print(\"I will purchase\")\n"
   ]
  },
  {
   "cell_type": "code",
   "execution_count": 2,
   "id": "428ab619-cfa3-400a-8740-fd71546bc53f",
   "metadata": {},
   "outputs": [
    {
     "name": "stdin",
     "output_type": "stream",
     "text": [
      "Enter price 6000\n"
     ]
    },
    {
     "name": "stdout",
     "output_type": "stream",
     "text": [
      " I will not purchase \n",
      "price is too much\n"
     ]
    }
   ],
   "source": [
    "price = int(input(\"Enter price\"))\n",
    "if price > 1000 :\n",
    "    print(\" I will not purchase \")\n",
    "    if price > 5000 :\n",
    "        print(\"price is too much\")\n"
   ]
  },
  {
   "cell_type": "markdown",
   "id": "e97fcc43-1291-4eb8-b9b5-922c878e6f31",
   "metadata": {},
   "source": [
    "l= [1,2,3,3,4,5]"
   ]
  },
  {
   "cell_type": "code",
   "execution_count": 3,
   "id": "d9d50516-f23a-438b-a289-0b200d19fb1d",
   "metadata": {},
   "outputs": [],
   "source": [
    "l = [1,2,2,3,4,5]"
   ]
  },
  {
   "cell_type": "code",
   "execution_count": 4,
   "id": "ca72e2c5-50d4-4d3e-8c5d-6505a4d4295e",
   "metadata": {},
   "outputs": [
    {
     "data": {
      "text/plain": [
       "2"
      ]
     },
     "execution_count": 4,
     "metadata": {},
     "output_type": "execute_result"
    }
   ],
   "source": [
    "l[0] +1"
   ]
  },
  {
   "cell_type": "code",
   "execution_count": 5,
   "id": "69ae79db-7550-48a1-b832-27e6327415a4",
   "metadata": {},
   "outputs": [],
   "source": [
    "l1 =[]"
   ]
  },
  {
   "cell_type": "code",
   "execution_count": 6,
   "id": "c2cd2cd7-5080-4958-a61a-365bad423649",
   "metadata": {},
   "outputs": [],
   "source": [
    "l1.append(l[0] +1)"
   ]
  },
  {
   "cell_type": "code",
   "execution_count": 7,
   "id": "146fa50c-10ea-485c-bd9e-2ec55e3b1315",
   "metadata": {},
   "outputs": [
    {
     "data": {
      "text/plain": [
       "[2]"
      ]
     },
     "execution_count": 7,
     "metadata": {},
     "output_type": "execute_result"
    }
   ],
   "source": [
    "l1"
   ]
  },
  {
   "cell_type": "code",
   "execution_count": 8,
   "id": "abdb00bd-93ea-485f-93bc-acd7f14d6792",
   "metadata": {},
   "outputs": [],
   "source": [
    "for i in range(0,6):\n",
    "    l[i] +1\n",
    "    l1.append(l[i] +1)"
   ]
  },
  {
   "cell_type": "code",
   "execution_count": 9,
   "id": "2c53782f-5c31-4e9b-b4be-e4ae6003d721",
   "metadata": {},
   "outputs": [
    {
     "data": {
      "text/plain": [
       "[2, 2, 3, 3, 4, 5, 6]"
      ]
     },
     "execution_count": 9,
     "metadata": {},
     "output_type": "execute_result"
    }
   ],
   "source": [
    "l1"
   ]
  },
  {
   "cell_type": "code",
   "execution_count": 10,
   "id": "553fd561-0935-4298-b56b-20ce803a9655",
   "metadata": {},
   "outputs": [],
   "source": [
    "for i in l:\n",
    "    l[i] +1\n",
    "    l1.append(l[i] +1)"
   ]
  },
  {
   "cell_type": "code",
   "execution_count": 12,
   "id": "690c039c-79b5-41e1-a1d9-1782ee62be6e",
   "metadata": {},
   "outputs": [
    {
     "data": {
      "text/plain": [
       "[2, 2, 3, 3, 4, 5, 6, 3, 3, 3, 4, 5, 6]"
      ]
     },
     "execution_count": 12,
     "metadata": {},
     "output_type": "execute_result"
    }
   ],
   "source": [
    "l1"
   ]
  },
  {
   "cell_type": "code",
   "execution_count": 13,
   "id": "8f84722f-3898-47a5-a670-3979c5a4544d",
   "metadata": {},
   "outputs": [],
   "source": [
    "l=[\"sudh\",\"kumar\",\"pwskills\",\"course\"]"
   ]
  },
  {
   "cell_type": "code",
   "execution_count": 17,
   "id": "54b57761-26cf-4b9b-a53f-31da23f58cb2",
   "metadata": {},
   "outputs": [
    {
     "name": "stdout",
     "output_type": "stream",
     "text": [
      "sudh\n",
      "kumar\n",
      "pwskills\n",
      "course\n"
     ]
    }
   ],
   "source": [
    "l1=[]\n",
    "for i in l :\n",
    "    print (i)\n",
    "    l1.append(i.upper())"
   ]
  },
  {
   "cell_type": "code",
   "execution_count": 19,
   "id": "58580a1e-4525-49e0-9844-ff3886adc3db",
   "metadata": {},
   "outputs": [
    {
     "data": {
      "text/plain": [
       "[2, 2, 3, 3, 4, 5, 6, 3, 3, 3, 4, 5, 6, 'SUDH', 'KUMAR', 'PWSKILLS', 'COURSE']"
      ]
     },
     "execution_count": 19,
     "metadata": {},
     "output_type": "execute_result"
    }
   ],
   "source": [
    "l1"
   ]
  },
  {
   "cell_type": "code",
   "execution_count": null,
   "id": "fb3a9db4-6c0b-4af1-8bab-2f9246af44e0",
   "metadata": {},
   "outputs": [],
   "source": [
    "#here we have to divide the list into two one is integer and another is string"
   ]
  },
  {
   "cell_type": "code",
   "execution_count": 20,
   "id": "43f9975a-da3e-44dd-8b4e-bb77f84409cc",
   "metadata": {},
   "outputs": [],
   "source": [
    "l = [1,2,3,4,4,\"sudh\",\"kumar\",324,34.33,\"abc\"]"
   ]
  },
  {
   "cell_type": "code",
   "execution_count": 29,
   "id": "81669bb3-07ad-4d28-b93e-12f57d889d57",
   "metadata": {},
   "outputs": [],
   "source": [
    "l1_num=[]\n",
    "l2_str=[]"
   ]
  },
  {
   "cell_type": "code",
   "execution_count": 31,
   "id": "1583d22d-8a32-40ed-a96f-b2a0d9e66ae8",
   "metadata": {},
   "outputs": [],
   "source": [
    "for i in l:\n",
    "    if type(i) == int or type(i) == float :\n",
    "        l1_num.append(i)\n",
    "    else:\n",
    "        l2_str.append(i)"
   ]
  },
  {
   "cell_type": "code",
   "execution_count": 32,
   "id": "c09c4f88-92b6-47a9-8cdf-d386542bce42",
   "metadata": {},
   "outputs": [
    {
     "data": {
      "text/plain": [
       "[1, 2, 3, 4, 4, 1, 2, 3, 4, 4, 324, 34.33]"
      ]
     },
     "execution_count": 32,
     "metadata": {},
     "output_type": "execute_result"
    }
   ],
   "source": [
    "l1_num"
   ]
  },
  {
   "cell_type": "code",
   "execution_count": 34,
   "id": "e5b13a9d-2ec0-4fb4-a00c-abd16052b31e",
   "metadata": {},
   "outputs": [
    {
     "data": {
      "text/plain": [
       "['sudh', 'kumar', 'abc']"
      ]
     },
     "execution_count": 34,
     "metadata": {},
     "output_type": "execute_result"
    }
   ],
   "source": [
    "l2_str"
   ]
  },
  {
   "cell_type": "code",
   "execution_count": null,
   "id": "e4874556-56eb-4f0b-9474-b71242ecd6fe",
   "metadata": {},
   "outputs": [],
   "source": []
  }
 ],
 "metadata": {
  "kernelspec": {
   "display_name": "Python 3 (ipykernel)",
   "language": "python",
   "name": "python3"
  },
  "language_info": {
   "codemirror_mode": {
    "name": "ipython",
    "version": 3
   },
   "file_extension": ".py",
   "mimetype": "text/x-python",
   "name": "python",
   "nbconvert_exporter": "python",
   "pygments_lexer": "ipython3",
   "version": "3.10.8"
  }
 },
 "nbformat": 4,
 "nbformat_minor": 5
}
